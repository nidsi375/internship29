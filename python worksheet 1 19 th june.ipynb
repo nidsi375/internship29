{
 "cells": [
  {
   "cell_type": "code",
   "execution_count": 1,
   "id": "70afc59c",
   "metadata": {},
   "outputs": [
    {
     "name": "stdout",
     "output_type": "stream",
     "text": [
      "enter a number9\n",
      "factorial of 9 = 362880\n"
     ]
    }
   ],
   "source": [
    "number = int (input('enter a number'))\n",
    "x=1\n",
    "for i in range(1,number+1):\n",
    "    x=x*i\n",
    "print('factorial of',number,'=',x)"
   ]
  },
  {
   "cell_type": "code",
   "execution_count": 3,
   "id": "0f58d87c",
   "metadata": {},
   "outputs": [
    {
     "name": "stdout",
     "output_type": "stream",
     "text": [
      "Enter any number : 11\n",
      "11 is a PRIME number\n"
     ]
    }
   ],
   "source": [
    "num = int(input(\"Enter any number : \"))\n",
    "if num > 1:\n",
    "    for i in range(2, num):\n",
    "        if (num % i) == 0:\n",
    "            print(num, \"is NOT a prime number\")\n",
    "            break\n",
    "    else:\n",
    "        print(num, \"is a PRIME number\")\n",
    "elif num == 0 or 1:\n",
    "    print(num, \"is a neither prime NOR composite number\")\n",
    "else:\n",
    "    print(num, \"is NOT a prime number it is a COMPOSITE number\")"
   ]
  },
  {
   "cell_type": "code",
   "execution_count": 4,
   "id": "910f941d",
   "metadata": {},
   "outputs": [
    {
     "name": "stdout",
     "output_type": "stream",
     "text": [
      "Enter string:people\n",
      "The string isn't a palindrome\n"
     ]
    }
   ],
   "source": [
    "my_string=input(\"Enter string:\")\n",
    "if(my_string==my_string[::-1]):\n",
    "   print(\"The string is a palindrome\")\n",
    "else:\n",
    "   print(\"The string isn't a palindrome\")"
   ]
  },
  {
   "cell_type": "code",
   "execution_count": 5,
   "id": "49ca3a13",
   "metadata": {},
   "outputs": [
    {
     "name": "stdout",
     "output_type": "stream",
     "text": [
      "Enter the First side of a Triangle: 6\n",
      "Enter the Second side of a Triangle: 9\n",
      "Third side of a Triangle =  10.816653826391969\n"
     ]
    }
   ],
   "source": [
    "import math\n",
    "a = float(input(\"Enter the First side of a Triangle: \"))\n",
    "b = float(input(\"Enter the Second side of a Triangle: \"))\n",
    "\n",
    "# Finding the Third Angle\n",
    "c =  math.sqrt(a**2+b**2)\n",
    "\n",
    "# Print the Output\n",
    "print(\"Third side of a Triangle = \", c)"
   ]
  },
  {
   "cell_type": "code",
   "execution_count": null,
   "id": "c47bfe6d",
   "metadata": {},
   "outputs": [],
   "source": []
  }
 ],
 "metadata": {
  "kernelspec": {
   "display_name": "Python 3 (ipykernel)",
   "language": "python",
   "name": "python3"
  },
  "language_info": {
   "codemirror_mode": {
    "name": "ipython",
    "version": 3
   },
   "file_extension": ".py",
   "mimetype": "text/x-python",
   "name": "python",
   "nbconvert_exporter": "python",
   "pygments_lexer": "ipython3",
   "version": "3.9.7"
  }
 },
 "nbformat": 4,
 "nbformat_minor": 5
}
